{
 "cells": [
  {
   "cell_type": "code",
   "execution_count": 1,
   "metadata": {},
   "outputs": [],
   "source": [
    "#IMPORT LIBRARIES\n",
    "import tweepy\n",
    "from textblob import TextBlob\n",
    "from wordcloud import WordCloud\n",
    "import pandas as pd \n",
    "import numpy as np\n",
    "import re\n",
    "import matplotlib.pyplot as plt\n",
    "plt.style.use('fivethirtyeight')"
   ]
  },
  {
   "cell_type": "code",
   "execution_count": 2,
   "metadata": {},
   "outputs": [
    {
     "data": {
      "text/html": [
       "<div>\n",
       "<style scoped>\n",
       "    .dataframe tbody tr th:only-of-type {\n",
       "        vertical-align: middle;\n",
       "    }\n",
       "\n",
       "    .dataframe tbody tr th {\n",
       "        vertical-align: top;\n",
       "    }\n",
       "\n",
       "    .dataframe thead th {\n",
       "        text-align: right;\n",
       "    }\n",
       "</style>\n",
       "<table border=\"1\" class=\"dataframe\">\n",
       "  <thead>\n",
       "    <tr style=\"text-align: right;\">\n",
       "      <th></th>\n",
       "      <th>Name</th>\n",
       "      <th>Review Title(ShawAcademy)</th>\n",
       "      <th>Review(ShawAcademy)</th>\n",
       "      <th>Rating Score (ShawAcademy)</th>\n",
       "      <th>Rating (ShawAcademy)</th>\n",
       "    </tr>\n",
       "  </thead>\n",
       "  <tbody>\n",
       "    <tr>\n",
       "      <th>0</th>\n",
       "      <td>Rachelle</td>\n",
       "      <td>Wow! I have never learned so much in so little...</td>\n",
       "      <td>I was so impressed with the course. I didn't k...</td>\n",
       "      <td>5</td>\n",
       "      <td>Excellent</td>\n",
       "    </tr>\n",
       "    <tr>\n",
       "      <th>1</th>\n",
       "      <td>Anurag Yadav -A</td>\n",
       "      <td>Bugs and app is not starting</td>\n",
       "      <td>NaN</td>\n",
       "      <td>1</td>\n",
       "      <td>Bad</td>\n",
       "    </tr>\n",
       "    <tr>\n",
       "      <th>2</th>\n",
       "      <td>Marc Cimeus</td>\n",
       "      <td>Huge scam!!!!!!!</td>\n",
       "      <td>NaN</td>\n",
       "      <td>1</td>\n",
       "      <td>Bad</td>\n",
       "    </tr>\n",
       "    <tr>\n",
       "      <th>3</th>\n",
       "      <td>Alice Hudon</td>\n",
       "      <td>This company has robbed me.</td>\n",
       "      <td>This company has robbed me.Shaw academy is a c...</td>\n",
       "      <td>1</td>\n",
       "      <td>Bad</td>\n",
       "    </tr>\n",
       "    <tr>\n",
       "      <th>4</th>\n",
       "      <td>Amirals</td>\n",
       "      <td>Run the other way</td>\n",
       "      <td>This company set up a fraudulent advertising c...</td>\n",
       "      <td>1</td>\n",
       "      <td>Bad</td>\n",
       "    </tr>\n",
       "  </tbody>\n",
       "</table>\n",
       "</div>"
      ],
      "text/plain": [
       "              Name                          Review Title(ShawAcademy)  \\\n",
       "0         Rachelle  Wow! I have never learned so much in so little...   \n",
       "1  Anurag Yadav -A                       Bugs and app is not starting   \n",
       "2      Marc Cimeus                                   Huge scam!!!!!!!   \n",
       "3      Alice Hudon                        This company has robbed me.   \n",
       "4          Amirals                                  Run the other way   \n",
       "\n",
       "                                 Review(ShawAcademy)  \\\n",
       "0  I was so impressed with the course. I didn't k...   \n",
       "1                                                NaN   \n",
       "2                                                NaN   \n",
       "3  This company has robbed me.Shaw academy is a c...   \n",
       "4  This company set up a fraudulent advertising c...   \n",
       "\n",
       "   Rating Score (ShawAcademy) Rating (ShawAcademy)  \n",
       "0                           5            Excellent  \n",
       "1                           1                  Bad  \n",
       "2                           1                  Bad  \n",
       "3                           1                  Bad  \n",
       "4                           1                  Bad  "
      ]
     },
     "execution_count": 2,
     "metadata": {},
     "output_type": "execute_result"
    }
   ],
   "source": [
    "#READ THE CSV FILE CONTAINING THE REVIEWS \n",
    "df = pd.read_csv('shawacademy_reviews.csv', engine='python')\n",
    "df.head()"
   ]
  },
  {
   "cell_type": "code",
   "execution_count": null,
   "metadata": {},
   "outputs": [
    {
     "name": "stdout",
     "output_type": "stream",
     "text": [
      "showing info https://raw.githubusercontent.com/nltk/nltk_data/gh-pages/index.xml\n"
     ]
    }
   ],
   "source": [
    "#IMPORT LIBRARIES TO REMOVE STOPWORDS\n",
    "import nltk\n",
    "nltk.download()\n",
    "from nltk.corpus import stopwords\n",
    "stopWords = set(stopwords.words('english'))\n",
    "print(stopWords)"
   ]
  },
  {
   "cell_type": "code",
   "execution_count": null,
   "metadata": {},
   "outputs": [],
   "source": [
    "import string\n",
    "from sklearn.feature_extraction.text import CountVectorizer"
   ]
  },
  {
   "cell_type": "code",
   "execution_count": null,
   "metadata": {},
   "outputs": [],
   "source": [
    "def cleanTxt(a):\n",
    "    punctuation_removal = [char for char in a if char not in string.punctuation]\n",
    "    punctuation_removal =''.join(punctuation_removal)\n",
    "    return [word for word in punctuation_removal.split() if word.lower() not in stopwords.words('english')]"
   ]
  },
  {
   "cell_type": "code",
   "execution_count": null,
   "metadata": {},
   "outputs": [],
   "source": [
    "#Sujectivity\n",
    "def getsubjectivity(text):\n",
    "    return TextBlob(text).sentiment.subjectivity\n",
    "\n",
    "#Polarity\n",
    "def getpolarity(text):\n",
    "    return TextBlob(text).sentiment.polarity\n",
    "\n",
    "#Add subjectivity and poloarity to data frame \n",
    "df['Subjectivity'] = df['Reviewtitle_shawacademy'].apply(getsubjectivity)\n",
    "df['Polarity'] =df['Reviewtitle_shawacademy'].apply(getpolarity)\n",
    "df"
   ]
  },
  {
   "cell_type": "code",
   "execution_count": null,
   "metadata": {},
   "outputs": [],
   "source": [
    "#Plotting WordCloud \n",
    "allwords = ''.join([twts for twts in df['Reviewtitle_shawacademy']])\n",
    "wordCloud = WordCloud(width=500, height=500, random_state =21, max_font_size=200).generate(allwords)\n",
    "\n",
    "plt.imshow(wordCloud, interpolation= \"bilinear\")\n",
    "plt.axis('off')\n",
    "plt.show()"
   ]
  },
  {
   "cell_type": "code",
   "execution_count": null,
   "metadata": {},
   "outputs": [],
   "source": [
    "#Positive, Negative, Neutral \n",
    "def getAnalysis(points):\n",
    "    if points < 0:\n",
    "        return 'Negative'\n",
    "    elif points == 0:\n",
    "        return 'Neutral'\n",
    "    else:\n",
    "        return 'Positive'\n",
    "    \n",
    "#Add analysis to the dataframe \n",
    "df['Analysis'] = df['Polarity'].apply(getAnalysis)\n",
    "df"
   ]
  },
  {
   "cell_type": "code",
   "execution_count": null,
   "metadata": {},
   "outputs": [],
   "source": [
    "df['Analysis'].value_counts()"
   ]
  },
  {
   "cell_type": "code",
   "execution_count": null,
   "metadata": {},
   "outputs": [],
   "source": [
    "#SAVE RESULTS TO A CSV FILE \n",
    "df.to_csv(r'Shaw Academy_Reviews.csv', index=False)"
   ]
  }
 ],
 "metadata": {
  "kernelspec": {
   "display_name": "Python 3",
   "language": "python",
   "name": "python3"
  },
  "language_info": {
   "codemirror_mode": {
    "name": "ipython",
    "version": 3
   },
   "file_extension": ".py",
   "mimetype": "text/x-python",
   "name": "python",
   "nbconvert_exporter": "python",
   "pygments_lexer": "ipython3",
   "version": "3.8.3"
  }
 },
 "nbformat": 4,
 "nbformat_minor": 4
}
