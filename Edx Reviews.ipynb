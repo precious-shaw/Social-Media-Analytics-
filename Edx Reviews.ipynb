{
 "cells": [
  {
   "cell_type": "code",
   "execution_count": 1,
   "metadata": {},
   "outputs": [],
   "source": [
    "#import libraries needed\n",
    "import tweepy\n",
    "from textblob import TextBlob\n",
    "from wordcloud import WordCloud\n",
    "import pandas as pd \n",
    "import numpy as np\n",
    "import re\n",
    "import string\n",
    "from sklearn.feature_extraction.text import CountVectorizer\n",
    "import matplotlib.pyplot as plt\n",
    "plt.style.use('fivethirtyeight')"
   ]
  },
  {
   "cell_type": "code",
   "execution_count": 2,
   "metadata": {},
   "outputs": [
    {
     "data": {
      "text/html": [
       "<div>\n",
       "<style scoped>\n",
       "    .dataframe tbody tr th:only-of-type {\n",
       "        vertical-align: middle;\n",
       "    }\n",
       "\n",
       "    .dataframe tbody tr th {\n",
       "        vertical-align: top;\n",
       "    }\n",
       "\n",
       "    .dataframe thead th {\n",
       "        text-align: right;\n",
       "    }\n",
       "</style>\n",
       "<table border=\"1\" class=\"dataframe\">\n",
       "  <thead>\n",
       "    <tr style=\"text-align: right;\">\n",
       "      <th></th>\n",
       "      <th>Name</th>\n",
       "      <th>Reviewtitle_edx</th>\n",
       "      <th>Review_edx</th>\n",
       "      <th>Ratingscore_edx</th>\n",
       "      <th>Rating_edx</th>\n",
       "      <th>Subjectivity</th>\n",
       "      <th>Polarity</th>\n",
       "      <th>Analysis</th>\n",
       "    </tr>\n",
       "  </thead>\n",
       "  <tbody>\n",
       "    <tr>\n",
       "      <th>0</th>\n",
       "      <td>Tomas Morales</td>\n",
       "      <td>I have taken two courses from EDX</td>\n",
       "      <td>I have taken 2 courses from EDX. Both were wel...</td>\n",
       "      <td>5</td>\n",
       "      <td>Excellent</td>\n",
       "      <td>0.0</td>\n",
       "      <td>0.0</td>\n",
       "      <td>Neutral</td>\n",
       "    </tr>\n",
       "    <tr>\n",
       "      <th>1</th>\n",
       "      <td>Kihlawy</td>\n",
       "      <td>Terrific app and website</td>\n",
       "      <td>Terrific app and website I love that everyone ...</td>\n",
       "      <td>5</td>\n",
       "      <td>Excellent</td>\n",
       "      <td>1.0</td>\n",
       "      <td>0.0</td>\n",
       "      <td>Neutral</td>\n",
       "    </tr>\n",
       "    <tr>\n",
       "      <th>2</th>\n",
       "      <td>Kirsten Hollister</td>\n",
       "      <td>I have taken four courses with edX andâ€¦</td>\n",
       "      <td>I have taken 4 courses with edX and been very ...</td>\n",
       "      <td>5</td>\n",
       "      <td>Excellent</td>\n",
       "      <td>0.0</td>\n",
       "      <td>0.0</td>\n",
       "      <td>Neutral</td>\n",
       "    </tr>\n",
       "    <tr>\n",
       "      <th>3</th>\n",
       "      <td>Matt Cullen-Meyer</td>\n",
       "      <td>Inconsistent quality and absolutely terrible s...</td>\n",
       "      <td>I've taken several edX courses and have observ...</td>\n",
       "      <td>1</td>\n",
       "      <td>Bad</td>\n",
       "      <td>1.0</td>\n",
       "      <td>-1.0</td>\n",
       "      <td>Negative</td>\n",
       "    </tr>\n",
       "    <tr>\n",
       "      <th>4</th>\n",
       "      <td>shal</td>\n",
       "      <td>avoid - deception and cheating</td>\n",
       "      <td>avoid! avoid! avoid! they advertise fixed pric...</td>\n",
       "      <td>1</td>\n",
       "      <td>Bad</td>\n",
       "      <td>0.0</td>\n",
       "      <td>0.0</td>\n",
       "      <td>Neutral</td>\n",
       "    </tr>\n",
       "  </tbody>\n",
       "</table>\n",
       "</div>"
      ],
      "text/plain": [
       "                Name                                    Reviewtitle_edx  \\\n",
       "0      Tomas Morales                  I have taken two courses from EDX   \n",
       "1            Kihlawy                           Terrific app and website   \n",
       "2  Kirsten Hollister          I have taken four courses with edX andâ€¦   \n",
       "3  Matt Cullen-Meyer  Inconsistent quality and absolutely terrible s...   \n",
       "4               shal                     avoid - deception and cheating   \n",
       "\n",
       "                                          Review_edx  Ratingscore_edx  \\\n",
       "0  I have taken 2 courses from EDX. Both were wel...                5   \n",
       "1  Terrific app and website I love that everyone ...                5   \n",
       "2  I have taken 4 courses with edX and been very ...                5   \n",
       "3  I've taken several edX courses and have observ...                1   \n",
       "4  avoid! avoid! avoid! they advertise fixed pric...                1   \n",
       "\n",
       "  Rating_edx  Subjectivity  Polarity  Analysis  \n",
       "0  Excellent           0.0       0.0   Neutral  \n",
       "1  Excellent           1.0       0.0   Neutral  \n",
       "2  Excellent           0.0       0.0   Neutral  \n",
       "3        Bad           1.0      -1.0  Negative  \n",
       "4        Bad           0.0       0.0   Neutral  "
      ]
     },
     "execution_count": 2,
     "metadata": {},
     "output_type": "execute_result"
    }
   ],
   "source": [
    "#read the csv file contaning the reviews \n",
    "df = pd.read_csv('edx_reviews.csv', engine='python')\n",
    "df.head()"
   ]
  },
  {
   "cell_type": "code",
   "execution_count": null,
   "metadata": {},
   "outputs": [
    {
     "name": "stdout",
     "output_type": "stream",
     "text": [
      "showing info https://raw.githubusercontent.com/nltk/nltk_data/gh-pages/index.xml\n"
     ]
    }
   ],
   "source": [
    "import nltk\n",
    "nltk.download()\n",
    "from nltk.corpus import stopwords\n",
    "stopWords = set(stopwords.words('english'))\n",
    "print(stopWords)"
   ]
  },
  {
   "cell_type": "code",
   "execution_count": null,
   "metadata": {},
   "outputs": [],
   "source": []
  },
  {
   "cell_type": "code",
   "execution_count": null,
   "metadata": {},
   "outputs": [],
   "source": [
    "def cleanTxt(a):\n",
    "    punctuation_removal = [char for char in a if char not in string.punctuation]\n",
    "    punctuation_removal =''.join(punctuation_removal)\n",
    "    return [word for word in punctuation_removal.split() if word.lower() not in stopwords.words('english')]"
   ]
  },
  {
   "cell_type": "code",
   "execution_count": null,
   "metadata": {},
   "outputs": [],
   "source": [
    "#Sujectivity\n",
    "def getsubjectivity(text):\n",
    "    return TextBlob(text).sentiment.subjectivity\n",
    "\n",
    "#Polarity\n",
    "def getpolarity(text):\n",
    "    return TextBlob(text).sentiment.polarity\n",
    "\n",
    "#Add subjectivity and poloarity to data frame \n",
    "df['Subjectivity'] = df['Reviewtitle_edx'].apply(getsubjectivity)\n",
    "df['Polarity'] =df['Reviewtitle_edx'].apply(getpolarity)\n",
    "df"
   ]
  },
  {
   "cell_type": "code",
   "execution_count": null,
   "metadata": {},
   "outputs": [],
   "source": [
    "#Plotting WordCloud \n",
    "allwords = ''.join([twts for twts in df['Reviewtitle_edx']])\n",
    "wordCloud = WordCloud(width=500, height=500, random_state =21, max_font_size=200).generate(allwords)\n",
    "\n",
    "plt.imshow(wordCloud, interpolation= \"bilinear\")\n",
    "plt.axis('off')\n",
    "plt.show()"
   ]
  },
  {
   "cell_type": "code",
   "execution_count": null,
   "metadata": {},
   "outputs": [],
   "source": [
    "#Positive, Negative, Neutral \n",
    "def getAnalysis(points):\n",
    "    if points < 0:\n",
    "        return 'Negative'\n",
    "    elif points == 0:\n",
    "        return 'Neutral'\n",
    "    else:\n",
    "        return 'Positive'\n",
    "    \n",
    "#Add analysis to the dataframe \n",
    "df['Analysis'] = df['Polarity'].apply(getAnalysis)\n",
    "df"
   ]
  },
  {
   "cell_type": "code",
   "execution_count": null,
   "metadata": {},
   "outputs": [],
   "source": [
    "df['Analysis'].value_counts()"
   ]
  },
  {
   "cell_type": "code",
   "execution_count": null,
   "metadata": {},
   "outputs": [],
   "source": [
    "df.to_csv(r'Edx_Reviews.csv', index=False)"
   ]
  },
  {
   "cell_type": "code",
   "execution_count": null,
   "metadata": {},
   "outputs": [],
   "source": []
  }
 ],
 "metadata": {
  "kernelspec": {
   "display_name": "Python 3",
   "language": "python",
   "name": "python3"
  },
  "language_info": {
   "codemirror_mode": {
    "name": "ipython",
    "version": 3
   },
   "file_extension": ".py",
   "mimetype": "text/x-python",
   "name": "python",
   "nbconvert_exporter": "python",
   "pygments_lexer": "ipython3",
   "version": "3.8.3"
  }
 },
 "nbformat": 4,
 "nbformat_minor": 4
}
